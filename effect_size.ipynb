{
 "cells": [
  {
   "cell_type": "markdown",
   "metadata": {},
   "source": [
    "######  An effect size refers to the size or magnitude of an effect or result as it would be expected to occur in a population. The effect size is estimated from samples of data. \n",
    "\n",
    "Two main groups of methods for calculating effect size are:\n",
    " Association. Statistical methods for quantifying an association between variables (e.g.\n",
    "correlation).\n",
    " Difference. Statistical methods for quantifying the difference between variables (e.g.\n",
    "difference between means).\n",
    "\n",
    "\n",
    "Three types of calculated result include:\n",
    " Standardized Result. The effect size has a standard scale allowing it to be interpreted\n",
    "generally regardless of application (e.g. Cohen’s d calculation).\n",
    " Original Units Result. The effect size may use the original units of the variable, which\n",
    "can aid in the interpretation within the domain (e.g. difference between two sample\n",
    "means).\n",
    " Unit Free Result. The effect size may not have units such as a count or proportion (e.g.\n",
    "a correlation coefficient)."
   ]
  },
  {
   "cell_type": "markdown",
   "metadata": {},
   "source": [
    "### Association Effect Size"
   ]
  },
  {
   "cell_type": "code",
   "execution_count": 1,
   "metadata": {},
   "outputs": [
    {
     "name": "stdout",
     "output_type": "stream",
     "text": [
      " Pearsons correlation: 0.712 \n"
     ]
    }
   ],
   "source": [
    "# calculate the pearson ' s correlation between two variables\n",
    "from numpy.random import randn\n",
    "from numpy.random import seed\n",
    "from scipy.stats import pearsonr\n",
    "# seed random number generator\n",
    "seed(1)\n",
    "# prepare data\n",
    "data1 = 10 * randn(10000) + 50\n",
    "data2 = data1 + (10 * randn(10000) + 50)\n",
    "# calculate pearson ' s correlation\n",
    "corr, _ = pearsonr(data1, data2)\n",
    "print( ' Pearsons correlation: %.3f ' % corr)"
   ]
  },
  {
   "cell_type": "markdown",
   "metadata": {},
   "source": [
    "### Difference Effect Size"
   ]
  },
  {
   "cell_type": "code",
   "execution_count": 2,
   "metadata": {},
   "outputs": [
    {
     "name": "stdout",
     "output_type": "stream",
     "text": [
      " Cohens d: 0.500 \n"
     ]
    }
   ],
   "source": [
    "# calculate the cohen ' s d between two samples\n",
    "from numpy.random import randn\n",
    "from numpy.random import seed\n",
    "from numpy import mean\n",
    "from numpy import var\n",
    "from math import sqrt\n",
    "# function to calculate cohen ' s d for independent samples\n",
    "def cohend(d1, d2):\n",
    "    # calculate the size of samples\n",
    "    n1, n2 = len(d1), len(d2)\n",
    "    # calculate the variance of the samples\n",
    "    s1, s2 = var(d1, ddof=1), var(d2, ddof=1)\n",
    "    # calculate the pooled standard deviation\n",
    "    s = sqrt(((n1 - 1) * s1 + (n2 - 1) * s2) / (n1 + n2 - 2))\n",
    "    # calculate the means of the samples\n",
    "    u1, u2 = mean(d1), mean(d2)\n",
    "    # calculate the effect size\n",
    "    return (u1 - u2) / s\n",
    "# seed random number generator\n",
    "seed(1)\n",
    "# prepare data\n",
    "data1 = 10 * randn(10000) + 60\n",
    "data2 = 10 * randn(10000) + 55\n",
    "# calculate cohen ' s d\n",
    "d = cohend(data1, data2)\n",
    "print( ' Cohens d: %.3f ' % d)"
   ]
  },
  {
   "cell_type": "markdown",
   "metadata": {},
   "source": [
    "###### Two other popular methods for quantifying the difference effect size are:\n",
    " Odds Ratio. Measures the odds of an outcome occurring from one treatment compared\n",
    "to another.\n",
    " Relative Risk Ratio. Measures the probabilities of an outcome occurring from one\n",
    "treatment compared to another."
   ]
  }
 ],
 "metadata": {
  "kernelspec": {
   "display_name": "Python 3",
   "language": "python",
   "name": "python3"
  },
  "language_info": {
   "codemirror_mode": {
    "name": "ipython",
    "version": 3
   },
   "file_extension": ".py",
   "mimetype": "text/x-python",
   "name": "python",
   "nbconvert_exporter": "python",
   "pygments_lexer": "ipython3",
   "version": "3.8.5"
  }
 },
 "nbformat": 4,
 "nbformat_minor": 4
}
